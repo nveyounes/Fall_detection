{
 "cells": [
  {
   "cell_type": "code",
   "execution_count": 1,
   "id": "f5372432-9055-4466-bcec-e88b188e9b82",
   "metadata": {},
   "outputs": [
    {
     "name": "stdout",
     "output_type": "stream",
     "text": [
      "Libraries imported successfully.\n"
     ]
    }
   ],
   "source": [
    "import pandas as pd\n",
    "import numpy as np\n",
    "from sklearn.model_selection import train_test_split\n",
    "from sklearn.ensemble import RandomForestClassifier\n",
    "from sklearn.metrics import classification_report, confusion_matrix\n",
    "import seaborn as sns\n",
    "import matplotlib.pyplot as plt\n",
    "\n",
    "print(\"Libraries imported successfully.\")"
   ]
  },
  {
   "cell_type": "code",
   "execution_count": 4,
   "id": "e7dd7da6-8065-4e53-953e-52478e79c912",
   "metadata": {},
   "outputs": [
    {
     "name": "stdout",
     "output_type": "stream",
     "text": [
      "Data loaded with correct column names.\n",
      "Total samples (frames) in the dataset: 11544\n"
     ]
    },
    {
     "data": {
      "text/html": [
       "<div>\n",
       "<style scoped>\n",
       "    .dataframe tbody tr th:only-of-type {\n",
       "        vertical-align: middle;\n",
       "    }\n",
       "\n",
       "    .dataframe tbody tr th {\n",
       "        vertical-align: top;\n",
       "    }\n",
       "\n",
       "    .dataframe thead th {\n",
       "        text-align: right;\n",
       "    }\n",
       "</style>\n",
       "<table border=\"1\" class=\"dataframe\">\n",
       "  <thead>\n",
       "    <tr style=\"text-align: right;\">\n",
       "      <th></th>\n",
       "      <th>sequence_name</th>\n",
       "      <th>frame</th>\n",
       "      <th>label</th>\n",
       "      <th>HeightWidthRatio</th>\n",
       "      <th>MajorMinorRatio</th>\n",
       "      <th>BoundingBoxOccupancy</th>\n",
       "      <th>MaxStdXZ</th>\n",
       "      <th>HHmaxRatio</th>\n",
       "      <th>H</th>\n",
       "      <th>D</th>\n",
       "      <th>P40</th>\n",
       "    </tr>\n",
       "  </thead>\n",
       "  <tbody>\n",
       "    <tr>\n",
       "      <th>0</th>\n",
       "      <td>adl-01</td>\n",
       "      <td>6</td>\n",
       "      <td>-1</td>\n",
       "      <td>6.3214</td>\n",
       "      <td>8.2230</td>\n",
       "      <td>0.49455</td>\n",
       "      <td>140.7718</td>\n",
       "      <td>0.95720</td>\n",
       "      <td>1761.2471</td>\n",
       "      <td>927.3002</td>\n",
       "      <td>0.026112</td>\n",
       "    </tr>\n",
       "    <tr>\n",
       "      <th>1</th>\n",
       "      <td>adl-01</td>\n",
       "      <td>8</td>\n",
       "      <td>-1</td>\n",
       "      <td>3.6316</td>\n",
       "      <td>4.5713</td>\n",
       "      <td>0.60584</td>\n",
       "      <td>159.6548</td>\n",
       "      <td>0.77655</td>\n",
       "      <td>1428.8440</td>\n",
       "      <td>818.2913</td>\n",
       "      <td>0.075228</td>\n",
       "    </tr>\n",
       "    <tr>\n",
       "      <th>2</th>\n",
       "      <td>adl-01</td>\n",
       "      <td>9</td>\n",
       "      <td>-1</td>\n",
       "      <td>4.8158</td>\n",
       "      <td>5.5638</td>\n",
       "      <td>0.62698</td>\n",
       "      <td>138.9976</td>\n",
       "      <td>0.93626</td>\n",
       "      <td>1722.7250</td>\n",
       "      <td>908.9348</td>\n",
       "      <td>0.085550</td>\n",
       "    </tr>\n",
       "    <tr>\n",
       "      <th>3</th>\n",
       "      <td>adl-01</td>\n",
       "      <td>10</td>\n",
       "      <td>-1</td>\n",
       "      <td>4.5122</td>\n",
       "      <td>5.1677</td>\n",
       "      <td>0.59209</td>\n",
       "      <td>138.3854</td>\n",
       "      <td>0.93194</td>\n",
       "      <td>1714.7726</td>\n",
       "      <td>944.6872</td>\n",
       "      <td>0.045424</td>\n",
       "    </tr>\n",
       "    <tr>\n",
       "      <th>4</th>\n",
       "      <td>adl-01</td>\n",
       "      <td>11</td>\n",
       "      <td>-1</td>\n",
       "      <td>4.1333</td>\n",
       "      <td>4.7776</td>\n",
       "      <td>0.60872</td>\n",
       "      <td>140.1724</td>\n",
       "      <td>0.93203</td>\n",
       "      <td>1714.9402</td>\n",
       "      <td>923.3361</td>\n",
       "      <td>0.072031</td>\n",
       "    </tr>\n",
       "  </tbody>\n",
       "</table>\n",
       "</div>"
      ],
      "text/plain": [
       "  sequence_name  frame  label  HeightWidthRatio  MajorMinorRatio  \\\n",
       "0        adl-01      6     -1            6.3214           8.2230   \n",
       "1        adl-01      8     -1            3.6316           4.5713   \n",
       "2        adl-01      9     -1            4.8158           5.5638   \n",
       "3        adl-01     10     -1            4.5122           5.1677   \n",
       "4        adl-01     11     -1            4.1333           4.7776   \n",
       "\n",
       "   BoundingBoxOccupancy  MaxStdXZ  HHmaxRatio          H         D       P40  \n",
       "0               0.49455  140.7718     0.95720  1761.2471  927.3002  0.026112  \n",
       "1               0.60584  159.6548     0.77655  1428.8440  818.2913  0.075228  \n",
       "2               0.62698  138.9976     0.93626  1722.7250  908.9348  0.085550  \n",
       "3               0.59209  138.3854     0.93194  1714.7726  944.6872  0.045424  \n",
       "4               0.60872  140.1724     0.93203  1714.9402  923.3361  0.072031  "
      ]
     },
     "execution_count": 4,
     "metadata": {},
     "output_type": "execute_result"
    }
   ],
   "source": [
    "# (Corrected Code for Cell 2)\n",
    "\n",
    "# Define the correct column names based on the dataset description\n",
    "column_names = [\n",
    "    'sequence_name', 'frame', 'label', 'HeightWidthRatio', 'MajorMinorRatio',\n",
    "    'BoundingBoxOccupancy', 'MaxStdXZ', 'HHmaxRatio', 'H', 'D', 'P40'\n",
    "]\n",
    "\n",
    "# Define paths to the feature files\n",
    "adls_path = '../data/extracted_features/urfall-cam0-adls.csv'\n",
    "falls_path = '../data/extracted_features/urfall-cam0-falls.csv'\n",
    "\n",
    "# Load the CSVs using our defined column names\n",
    "df_adls = pd.read_csv(adls_path, header=None, names=column_names)\n",
    "df_falls = pd.read_csv(falls_path, header=None, names=column_names)\n",
    "\n",
    "# Combine them into one large DataFrame\n",
    "df = pd.concat([df_adls, df_falls], ignore_index=True)\n",
    "\n",
    "print(\"Data loaded with correct column names.\")\n",
    "print(f\"Total samples (frames) in the dataset: {len(df)}\")\n",
    "df.head()"
   ]
  },
  {
   "cell_type": "code",
   "execution_count": null,
   "id": "9823ac4c-1d23-4752-94c0-46e76cf76f04",
   "metadata": {},
   "outputs": [],
   "source": []
  },
  {
   "cell_type": "code",
   "execution_count": 5,
   "id": "de155be7-1069-41b0-a17e-95f3cc7acbea",
   "metadata": {},
   "outputs": [
    {
     "name": "stdout",
     "output_type": "stream",
     "text": [
      "Data prepared for modeling:\n",
      "Features (X) shape: (9825, 8)\n",
      "Target (y) shape: (9825,)\n",
      "\n",
      "Class distribution:\n",
      "label\n",
      "0    7452\n",
      "1    2373\n",
      "Name: count, dtype: int64\n"
     ]
    }
   ],
   "source": [
    "# The dataset description says to ignore frames with label '0' (transitional)\n",
    "df_filtered = df[df['label'] != 0].copy()\n",
    "\n",
    "# Map the labels for binary classification:\n",
    "# -1 (not lying) -> 0\n",
    "#  1 (lying/fall) -> 1\n",
    "df_filtered['label'] = df_filtered['label'].map({-1: 0, 1: 1})\n",
    "\n",
    "# Define the feature columns we want to use\n",
    "feature_columns = [\n",
    "    'HeightWidthRatio', 'MajorMinorRatio', 'BoundingBoxOccupancy',\n",
    "    'MaxStdXZ', 'HHmaxRatio', 'H', 'D', 'P40'\n",
    "]\n",
    "\n",
    "# Separate features (X) and the target label (y)\n",
    "X = df_filtered[feature_columns]\n",
    "y = df_filtered['label']\n",
    "\n",
    "print(\"Data prepared for modeling:\")\n",
    "print(f\"Features (X) shape: {X.shape}\")\n",
    "print(f\"Target (y) shape: {y.shape}\")\n",
    "print(\"\\nClass distribution:\")\n",
    "print(y.value_counts())"
   ]
  },
  {
   "cell_type": "code",
   "execution_count": 6,
   "id": "7ceb95e2-9195-41fc-9fcd-1b43d60b2860",
   "metadata": {},
   "outputs": [
    {
     "name": "stdout",
     "output_type": "stream",
     "text": [
      "Training set size: 7860\n",
      "Testing set size: 1965\n"
     ]
    }
   ],
   "source": [
    "X_train, X_test, y_train, y_test = train_test_split(\n",
    "    X, y, \n",
    "    test_size=0.2,        # Use 20% of data for testing\n",
    "    random_state=42,      # Ensures the split is the same every time\n",
    "    stratify=y            # Important for imbalanced datasets\n",
    ")\n",
    "\n",
    "print(f\"Training set size: {len(X_train)}\")\n",
    "print(f\"Testing set size: {len(X_test)}\")"
   ]
  },
  {
   "cell_type": "code",
   "execution_count": 7,
   "id": "7b9847ef-ce3d-449f-91c5-ac2726ccef66",
   "metadata": {},
   "outputs": [
    {
     "name": "stdout",
     "output_type": "stream",
     "text": [
      "Training the Random Forest model...\n",
      "Training complete.\n"
     ]
    }
   ],
   "source": [
    "# Initialize the model\n",
    "model = RandomForestClassifier(n_estimators=100, random_state=42, class_weight='balanced')\n",
    "\n",
    "# Train the model\n",
    "print(\"Training the Random Forest model...\")\n",
    "model.fit(X_train, y_train)\n",
    "print(\"Training complete.\")"
   ]
  },
  {
   "cell_type": "code",
   "execution_count": 8,
   "id": "7803e46d-7ba7-44fd-958e-2e8337cf4e6b",
   "metadata": {},
   "outputs": [
    {
     "name": "stdout",
     "output_type": "stream",
     "text": [
      "--- Classification Report ---\n",
      "                precision    recall  f1-score   support\n",
      "\n",
      " Not Lying (0)       1.00      1.00      1.00      1490\n",
      "Lying/Fall (1)       1.00      1.00      1.00       475\n",
      "\n",
      "      accuracy                           1.00      1965\n",
      "     macro avg       1.00      1.00      1.00      1965\n",
      "  weighted avg       1.00      1.00      1.00      1965\n",
      "\n",
      "\n",
      "--- Confusion Matrix ---\n"
     ]
    },
    {
     "data": {
      "image/png": "[encoded data removed]",
      "text/plain": [
       "<Figure size 640x480 with 2 Axes>"
      ]
     },
     "metadata": {},
     "output_type": "display_data"
    }
   ],
   "source": [
    "# Make predictions on the test data\n",
    "y_pred = model.predict(X_test)\n",
    "\n",
    "# --- Generate the Classification Report ---\n",
    "# This report gives us precision, recall, and f1-score\n",
    "print(\"--- Classification Report ---\")\n",
    "# '0' is 'Not Lying', '1' is 'Lying/Fall'\n",
    "print(classification_report(y_test, y_pred, target_names=['Not Lying (0)', 'Lying/Fall (1)']))\n",
    "\n",
    "\n",
    "# --- Generate the Confusion Matrix ---\n",
    "# This shows us exactly where the model made mistakes\n",
    "print(\"\\n--- Confusion Matrix ---\")\n",
    "cm = confusion_matrix(y_test, y_pred)\n",
    "sns.heatmap(cm, annot=True, fmt='d', cmap='Blues', \n",
    "            xticklabels=['Predicted Not Lying', 'Predicted Lying'], \n",
    "            yticklabels=['Actual Not Lying', 'Actual Lying'])\n",
    "plt.ylabel('Actual')\n",
    "plt.xlabel('Predicted')\n",
    "plt.show()"
   ]
  },
  {
   "cell_type": "code",
   "execution_count": null,
   "id": "43f26af8-1fe2-45dd-b1e2-8917313deef5",
   "metadata": {},
   "outputs": [],
   "source": []
  }
 ],
 "metadata": {
  "kernelspec": {
   "display_name": "Python 3 (ipykernel)",
   "language": "python",
   "name": "python3"
  },
  "language_info": {
   "codemirror_mode": {
    "name": "ipython",
    "version": 3
   },
   "file_extension": ".py",
   "mimetype": "text/x-python",
   "name": "python",
   "nbconvert_exporter": "python",
   "pygments_lexer": "ipython3",
   "version": "3.12.11"
  }
 },
 "nbformat": 4,
 "nbformat_minor": 5
}
