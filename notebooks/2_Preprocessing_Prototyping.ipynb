{
 "cells": [
  {
   "cell_type": "code",
   "execution_count": 1,
   "id": "bcd35f32-51c3-48db-9000-919dc9af1d4e",
   "metadata": {},
   "outputs": [
    {
     "name": "stdout",
     "output_type": "stream",
     "text": [
      "--- Testing Preprocessing Functions ---\n",
      "\n",
      "[INFO] Testing accelerometer function...\n",
      "Fall accelerometer data shape: (1, 8)\n",
      "ADL accelerometer data shape: (2, 8)\n",
      "\n",
      "[INFO] Testing image sequence function...\n",
      "Fall RGB sequence data shape: (32, 128, 128, 3)\n",
      "\n",
      "--- Testing Complete ---\n",
      "✅ SUCCESS: The shapes of the processed data are correct.\n"
     ]
    }
   ],
   "source": [
    "# 2_Preprocessing_Prototyping.ipynb\n",
    "\n",
    "import sys\n",
    "import os\n",
    "\n",
    "# Add the parent directory (project root) to the Python path\n",
    "# This allows us to import the preprocessor module\n",
    "sys.path.append(os.path.abspath('..'))\n",
    "\n",
    "# Now the import will work correctly\n",
    "from preprocessor import process_accelerometer_data, process_image_sequence\n",
    "import numpy as np\n",
    "\n",
    "print(\"--- Testing Preprocessing Functions ---\")\n",
    "\n",
    "# --- 1. Test Accelerometer Processing ---\n",
    "print(\"\\n[INFO] Testing accelerometer function...\")\n",
    "\n",
    "# Define paths to single data samples\n",
    "fall_acc_path = '../data/processed/falls/fall-01/acc/fall-01-acc.csv'\n",
    "adl_acc_path = '../data/processed/adls/adl-01/acc/adl-01-acc.csv'\n",
    "\n",
    "# Process the data\n",
    "fall_acc_features = process_accelerometer_data(fall_acc_path)\n",
    "adl_acc_features = process_accelerometer_data(adl_acc_path)\n",
    "\n",
    "print(f\"Fall accelerometer data shape: {fall_acc_features.shape}\")\n",
    "print(f\"ADL accelerometer data shape: {adl_acc_features.shape}\")\n",
    "\n",
    "\n",
    "# --- 2. Test Image Sequence Processing ---\n",
    "print(\"\\n[INFO] Testing image sequence function...\")\n",
    "\n",
    "# Define path to a directory of RGB frames\n",
    "fall_rgb_path = '../data/processed/falls/fall-01/cam0/rgb/'\n",
    "\n",
    "# Process the image sequence\n",
    "fall_rgb_sequence = process_image_sequence(fall_rgb_path, num_frames=32, target_size=(128, 128))\n",
    "\n",
    "print(f\"Fall RGB sequence data shape: {fall_rgb_sequence.shape}\")\n",
    "\n",
    "\n",
    "print(\"\\n--- Testing Complete ---\")\n",
    "if fall_rgb_sequence.shape == (32, 128, 128, 3) and fall_acc_features.shape[1] == 8:\n",
    "    print(\"✅ SUCCESS: The shapes of the processed data are correct.\")\n",
    "else:\n",
    "    print(\"❌ FAILED: Check the output shapes and any error messages.\")"
   ]
  },
  {
   "cell_type": "code",
   "execution_count": null,
   "id": "3a99c904-43e2-4439-ad67-1d04590b4a44",
   "metadata": {},
   "outputs": [],
   "source": []
  },
  {
   "cell_type": "code",
   "execution_count": null,
   "id": "c7c0aaaf-5501-43a6-9a66-f5a232c08bf2",
   "metadata": {},
   "outputs": [],
   "source": []
  }
 ],
 "metadata": {
  "kernelspec": {
   "display_name": "Python 3 (ipykernel)",
   "language": "python",
   "name": "python3"
  },
  "language_info": {
   "codemirror_mode": {
    "name": "ipython",
    "version": 3
   },
   "file_extension": ".py",
   "mimetype": "text/x-python",
   "name": "python",
   "nbconvert_exporter": "python",
   "pygments_lexer": "ipython3",
   "version": "3.12.11"
  }
 },
 "nbformat": 4,
 "nbformat_minor": 5
}
